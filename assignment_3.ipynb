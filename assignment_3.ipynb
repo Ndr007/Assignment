{
 "cells": [
  {
   "cell_type": "markdown",
   "metadata": {},
   "source": [
    "__1.\n",
    "Write a function to compute 5/0 and use try/except to catch the exceptions.__\n"
   ]
  },
  {
   "cell_type": "code",
   "execution_count": 88,
   "metadata": {},
   "outputs": [
    {
     "name": "stdout",
     "output_type": "stream",
     "text": [
      "numerator: d\n",
      "denominator: e\n",
      "Enter correctly\n"
     ]
    }
   ],
   "source": [
    "def zerodiv(a,b):\n",
    "    try:\n",
    "        i = int(a)/int(b)\n",
    "        print('{}/{}={}'.format(a,b,i))\n",
    "    except ZeroDivisionError:\n",
    "        print('Cannot divide {} by {}'.format(a,b))\n",
    "    except:\n",
    "        print('Enter correctly')\n",
    "\n",
    "zerodiv(input('numerator: '), input('denominator: '))"
   ]
  },
  {
   "cell_type": "markdown",
   "metadata": {},
   "source": [
    "__2.\n",
    "Implement a Python program to generate all sentences where subject is in [\"Americans\",\n",
    "\"Indians\"] and verb is in [\"Play\", \"watch\"] and the object is in [\"Baseball\",\"cricket\"].\n",
    "Hint: Subject,Verb and Object should be declared in the program as shown below.\n",
    "subjects=[\"Americans \",\"Indians\"]\n",
    "verbs=[\"play\",\"watch\"]\n",
    "objects=[\"Baseball\",\"Cricket\"]\n",
    "Output should come as below:\n",
    "Americans play Baseball.\n",
    "Americans play Cricket.\n",
    "Americans watch Baseball.\n",
    "Americans watch Cricket.\n",
    "Indians play Baseball.\n",
    "Indians play Cricket.\n",
    "Indians watch Baseball.\n",
    "Indians watch Cricket.__"
   ]
  },
  {
   "cell_type": "code",
   "execution_count": 90,
   "metadata": {},
   "outputs": [
    {
     "name": "stdout",
     "output_type": "stream",
     "text": [
      "Americans play Baseball.\n",
      "Americans play Cricket.\n",
      "Americans watch Baseball.\n",
      "Americans watch Cricket.\n",
      "Indians play Baseball.\n",
      "Indians play Cricket.\n",
      "Indians watch Baseball.\n",
      "Indians watch Cricket.\n"
     ]
    }
   ],
   "source": [
    "subject=[\"Americans\",\"Americans\",\"Americans\",\"Americans\",\"Indians\",\"Indians\",\"Indians\",\"Indians\"]\n",
    "verb=[\"play\",\"play\",\"watch\",\"watch\",\"play\",\"play\",\"watch\",\"watch\"]\n",
    "object=[\"Baseball\",\"Cricket\",\"Baseball\",\"Cricket\",\"Baseball\",\"Cricket\",\"Baseball\",\"Cricket\"]\n",
    "\n",
    "if len(subject)==len(verb)==len(object):\n",
    "    for _ in range(len(s)):\n",
    "        print(s[_]+str(\" \")+v[_]+str(\" \")+o[_]+str(\".\"))\n"
   ]
  },
  {
   "cell_type": "markdown",
   "metadata": {},
   "source": [
    "__Task 2:\n",
    "1.\n",
    "Write a function so that the columns of the output matrix are powers of the input vector.\n",
    "The order of the powers is determined by the increasing boolean argument. Specifically, when\n",
    "increasing is False, the i-th output column is the input vector raised element-wise to the power\n",
    "of N - i - 1.\n",
    "HINT: Such a matrix with a geometric progression in each row is named for AlexandreTheophile Vandermonde.\n",
    "NOTE: The solution shared through Github should contain the source code used and the\n",
    "screenshot of the output.__"
   ]
  },
  {
   "cell_type": "code",
   "execution_count": 100,
   "metadata": {},
   "outputs": [],
   "source": [
    "def mat(li,N,increasing):\n",
    "\n",
    "    temp=[]\n",
    "\n",
    "    for x in li:\n",
    "        temp2=[]\n",
    "    \n",
    "        if increasing==True:\n",
    "            for i in range(N):\n",
    "                temp2.append(x**(N-i-1))\n",
    "    \n",
    "        elif increasing==False:\n",
    "            for i in range(N-1,-1,-1):\n",
    "                temp2.append(x**(N-i-1))\n",
    "        \n",
    "        temp.append(op_temp)\n",
    "\n",
    "    return temp"
   ]
  },
  {
   "cell_type": "code",
   "execution_count": 101,
   "metadata": {},
   "outputs": [
    {
     "data": {
      "text/plain": [
       "[[25, 5, 1], [25, 5, 1], [25, 5, 1], [25, 5, 1]]"
      ]
     },
     "execution_count": 101,
     "metadata": {},
     "output_type": "execute_result"
    }
   ],
   "source": [
    "mat([1,2,3,5],4,True)\n"
   ]
  },
  {
   "cell_type": "code",
   "execution_count": 102,
   "metadata": {},
   "outputs": [
    {
     "data": {
      "text/plain": [
       "[[25, 5, 1], [25, 5, 1], [25, 5, 1], [25, 5, 1]]"
      ]
     },
     "execution_count": 102,
     "metadata": {},
     "output_type": "execute_result"
    }
   ],
   "source": [
    "mat([1,2,3,5],4,False)\n"
   ]
  },
  {
   "cell_type": "code",
   "execution_count": null,
   "metadata": {},
   "outputs": [],
   "source": []
  }
 ],
 "metadata": {
  "kernelspec": {
   "display_name": "Python 3",
   "language": "python",
   "name": "python3"
  },
  "language_info": {
   "codemirror_mode": {
    "name": "ipython",
    "version": 3
   },
   "file_extension": ".py",
   "mimetype": "text/x-python",
   "name": "python",
   "nbconvert_exporter": "python",
   "pygments_lexer": "ipython3",
   "version": "3.7.1"
  }
 },
 "nbformat": 4,
 "nbformat_minor": 2
}
